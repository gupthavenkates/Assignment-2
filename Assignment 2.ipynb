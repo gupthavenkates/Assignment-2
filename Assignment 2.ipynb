{
 "cells": [
  {
   "cell_type": "code",
   "execution_count": 1,
   "metadata": {},
   "outputs": [],
   "source": [
    "#Task 1\n",
    "#1.1 Program to implement your own myreduce() function which works exactly like Python's built-in function reduce()  \n",
    "def myreduce(myfunc,mylist):\n",
    "    if len(mylist) > 1:\n",
    "        a = mylist[0]\n",
    "        for i in mylist[1:]:\n",
    "            a = myfunc(a,i)\n",
    "        return a\n",
    "    else:\n",
    "        return mylist[0]\n",
    "List = [2,9,78,547,693,254,784,11,75]\n",
    "print(myreduce(lambda a,b:a+b,List))"
   ]
  },
  {
   "cell_type": "code",
   "execution_count": 2,
   "metadata": {},
   "outputs": [
    {
     "name": "stdout",
     "output_type": "stream",
     "text": [
      "[8, 78, 22, 36]\n"
     ]
    }
   ],
   "source": [
    "#Task 1\n",
    "#1.2 program to implement your own myfilter() function which works exactly like Python's built-in function filter() \n",
    "def myfilter(myfunc,mylist):\n",
    "    temp=[]\n",
    "    for i in mylist:\n",
    "        if myfunc(i)==True:\n",
    "            temp.append(i)\n",
    "    return temp\n",
    "def even_check(num):\n",
    "    if num%2 ==0:\n",
    "        return True\n",
    "print(myfilter(even_check,[8,9,78,65,22,36,47]))"
   ]
  },
  {
   "cell_type": "code",
   "execution_count": 3,
   "metadata": {},
   "outputs": [
    {
     "name": "stdout",
     "output_type": "stream",
     "text": [
      "['A', 'C', 'A', 'D', 'G', 'I', 'L', 'D']\n",
      "['x', 'xx', 'xxx', 'xxxx', 'y', 'yy', 'yyy', 'yyyy', 'z', 'zz', 'zzz', 'zzzz']\n",
      "['x', 'y', 'z', 'xx', 'yy', 'zz', 'xx', 'yy', 'zz', 'xxxx', 'yyyy', 'zzzz']\n",
      "[[2], [3], [4], [3], [4], [5], [4], [5], [6]]\n",
      "[[2, 3, 4, 5], [3, 4, 5, 6], [4, 5, 6, 7], [5, 6, 7, 8]]\n",
      "[(1, 1), (2, 1), (3, 1), (1, 2), (2, 2), (3, 2), (1, 3), (2, 3), (3, 3)]\n"
     ]
    }
   ],
   "source": [
    "#Task 2\n",
    "#2. Implement List comprehensions to produce the lists.\n",
    "randomchar=\"ACADGILD\"\n",
    "first=[character for character in randomchar]\n",
    "print(first)\n",
    "second=[char*num for char in\"xyz\" for num in range(1,5)]\n",
    "print(second)\n",
    "temp = [\"x\",\"y\",\"z\",\"xx\",\"yy\",\"zz\"]\n",
    "third = [char*num for num in range(1,3) for char in temp]\n",
    "print(third)\n",
    "fourth = [[num+no] for num in range(1,4) for no in range(1,4)]\n",
    "print(fourth)\n",
    "fifth=[[i,i+1,i+2,i+3] for i in range(2,6)]\n",
    "print(fifth)\n",
    "sixth = [(i,j) for j in range(1,4) for i in range(1,4)]\n",
    "print(sixth)"
   ]
  },
  {
   "cell_type": "code",
   "execution_count": 4,
   "metadata": {},
   "outputs": [
    {
     "name": "stdout",
     "output_type": "stream",
     "text": [
      "The longest word in the list is:  ['prove', 'works']\n"
     ]
    }
   ],
   "source": [
    "#Task 1\n",
    "#3. program to implement a function longestWord() that takes a list of words and returns the longest one. \n",
    "List_of_words = [\"this\",\"is\",\"a\", \"test\",\"to\",\"prove\",\"that\",\"this\",\"works\"]\n",
    "def longestword(List):\n",
    "    List_of_words = sorted(List,key = len)\n",
    "    Final_list=filter(lambda a: a if len(a)==len(List_of_words[-1]) else \"\" ,List_of_words)\n",
    "    return list(Final_list)\n",
    "print(\"The longest word in the list is: \",longestword(List_of_words))"
   ]
  },
  {
   "cell_type": "code",
   "execution_count": 5,
   "metadata": {},
   "outputs": [
    {
     "name": "stdout",
     "output_type": "stream",
     "text": [
      "Area of the triangle :  9.921567416492215\n"
     ]
    }
   ],
   "source": [
    "#Task 2\n",
    "#1.1 Python Program(with class concepts) to find the area of the triangle\n",
    "class Parentclass:\n",
    "    def __init__(self,a,b,c):\n",
    "        self.side1=a\n",
    "        self.side2=b\n",
    "        self.side3=c\n",
    "class Subclass(Parentclass):\n",
    "    def __init__(self,*args):\n",
    "        super(Subclass,self).__init__(*args)\n",
    "    def area(self):\n",
    "        s=(self.side1+self.side2+self.side3)/2\n",
    "        area = (s*(s-self.side1)*(s-self.side2)*(s-self.side3))**0.5\n",
    "        return area\n",
    "areaoftriangle=Subclass(4,5,6)\n",
    "print(\"Area of the triangle : \", areaoftriangle.area())\n"
   ]
  },
  {
   "cell_type": "code",
   "execution_count": 6,
   "metadata": {},
   "outputs": [
    {
     "name": "stdout",
     "output_type": "stream",
     "text": [
      "Enter words seperated by comma to check the size: this,that,some,testing,success\n",
      "Enter a number to filter words greater than the number specified: 4\n",
      "The filterd words are:\n",
      " ['testing', 'success']\n"
     ]
    }
   ],
   "source": [
    "#Task 2\n",
    "#1.2 python program to return words that are longer than n number\n",
    "def filter_long_words(word_list,length):\n",
    "    return list(filter(lambda a:a if len(a)>length else \"\",word_list))\n",
    "word_list=input(\"Enter words seperated by comma to check the size: \").split(\",\")\n",
    "lenght= int(input(\"Enter a number to filter words greater than the number specified: \"))\n",
    "print(\"The filterd words are:\\n\",filter_long_words(word_list,lenght))"
   ]
  },
  {
   "cell_type": "code",
   "execution_count": 7,
   "metadata": {},
   "outputs": [
    {
     "name": "stdout",
     "output_type": "stream",
     "text": [
      "[4, 4, 4, 5, 3, 4, 12, 0]\n"
     ]
    }
   ],
   "source": [
    "# Task 2\n",
    "#2.1 Python program using function concept that maps  list of words into a list of integers representing the lengths of the corresponding words.\n",
    "def count(word):\n",
    "    return len(word)\n",
    "list1=[\"this\",\"that\",\"what\",\"where\",\"all\",\"show\",\"corana virus\",\"\"]\n",
    "print(list(map(count,list1)))"
   ]
  },
  {
   "cell_type": "code",
   "execution_count": 8,
   "metadata": {
    "scrolled": true
   },
   "outputs": [
    {
     "name": "stdout",
     "output_type": "stream",
     "text": [
      "Enter a character to check if it is a vowel: g\n",
      "Is the character ' g ' a vowel?\n",
      " False\n"
     ]
    }
   ],
   "source": [
    "#Task 2\n",
    "#2.2  Python function which takes a character and returns True if it is a vowel, False otherwise.\n",
    "def vowelchecker(character):\n",
    "    vowel = [\"a\",\"e\",\"i\",\"o\",\"u\",\"A\",\"E\",\"I\",\"O\",\"U\"]\n",
    "    return True if character in vowel else False\n",
    "character=input(\"Enter a character to check if it is a vowel: \")\n",
    "print(\"Is the character '\",character,\"' a vowel?\\n\",vowelchecker(character))"
   ]
  }
 ],
 "metadata": {
  "kernelspec": {
   "display_name": "Python 3",
   "language": "python",
   "name": "python3"
  },
  "language_info": {
   "codemirror_mode": {
    "name": "ipython",
    "version": 3
   },
   "file_extension": ".py",
   "mimetype": "text/x-python",
   "name": "python",
   "nbconvert_exporter": "python",
   "pygments_lexer": "ipython3",
   "version": "3.7.4"
  }
 },
 "nbformat": 4,
 "nbformat_minor": 2
}
